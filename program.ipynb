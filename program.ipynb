{
 "cells": [
  {
   "cell_type": "code",
   "execution_count": 3,
   "id": "afcd3471",
   "metadata": {},
   "outputs": [],
   "source": [
    "import cvxpy as cp"
   ]
  },
  {
   "cell_type": "code",
   "execution_count": 24,
   "id": "b6c405ce",
   "metadata": {},
   "outputs": [
    {
     "name": "stdout",
     "output_type": "stream",
     "text": [
      "obj_func = 0.0\n",
      "x = [0. 0. 0. 0. 0. 0.]\n"
     ]
    }
   ],
   "source": [
    "x = cp.Variable(6, integer = True)\n",
    "\n",
    "constraints = []\n",
    "\n",
    "constraints.append(42*x[0]<=900) # Iron prod can't exceed belt capacity\n",
    "constraints.append(42*x[1]<=900) # Copper prod can't exceed belt capacity\n",
    "constraints.append(x[4]<=900) # Gear prod can't exceed belt capacity\n",
    "constraints.append(x[5]<=900) # Science prod can't exceed belt capacity\n",
    "\n",
    "constraints.append(x[4]==150*x[2]) # Total gear prod = 150 gears per minute per assembler\n",
    "constraints.append(x[5]==9*x[3]) # Total science prod = 9 science per minute per assembler\n",
    "\n",
    "constraints.append(x[4]==42*x[0]/2) # Iron prod equals iron consumption\n",
    "constraints.append(x[4]==9*x[3]) # Gear prod equals gear consumption (9 * num science assemblers)\n",
    "constraints.append(42*x[1]==9*x[3]) # Copper prod equals copper consumption\n",
    "\n",
    "# Non-negativity\n",
    "constraints.append(x[0]>=0)\n",
    "constraints.append(x[1]>=0)\n",
    "constraints.append(x[2]>=0)\n",
    "constraints.append(x[3]>=0)\n",
    "constraints.append(x[4]>=0)\n",
    "constraints.append(x[5]>=0)\n",
    "\n",
    "obj_func=x[5]\n",
    "\n",
    "problem = cp.Problem(cp.Maximize(obj_func), constraints)\n",
    "\n",
    "problem.solve(solver=cp.GUROBI,verbose = False)\n",
    "\n",
    "print(\"obj_func = \" + str(obj_func.value))\n",
    "print(\"x = \" + str(x.value))"
   ]
  }
 ],
 "metadata": {
  "kernelspec": {
   "display_name": "Python 3 (ipykernel)",
   "language": "python",
   "name": "python3"
  },
  "language_info": {
   "codemirror_mode": {
    "name": "ipython",
    "version": 3
   },
   "file_extension": ".py",
   "mimetype": "text/x-python",
   "name": "python",
   "nbconvert_exporter": "python",
   "pygments_lexer": "ipython3",
   "version": "3.9.17"
  }
 },
 "nbformat": 4,
 "nbformat_minor": 5
}
